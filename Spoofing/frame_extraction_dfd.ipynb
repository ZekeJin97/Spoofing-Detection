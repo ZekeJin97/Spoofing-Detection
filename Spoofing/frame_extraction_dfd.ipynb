{
 "cells": [
  {
   "cell_type": "code",
   "id": "initial_id",
   "metadata": {
    "collapsed": true,
    "ExecuteTime": {
     "end_time": "2025-06-09T12:14:40.178395Z",
     "start_time": "2025-06-09T12:14:40.157908Z"
    }
   },
   "source": [
    "import os\n",
    "import cv2\n",
    "import numpy as np\n",
    "import mediapipe as mp\n",
    "from tqdm import tqdm\n",
    "\n",
    "# === Face detector ===\n",
    "mp_face = mp.solutions.face_detection.FaceDetection(model_selection=1, min_detection_confidence=0.6)\n",
    "\n",
    "def extract_faces_from_dfd(video_dir, out_dir, label, every_n_frames=15, max_per_video=5, margin=0.3):\n",
    "    os.makedirs(out_dir, exist_ok=True)\n",
    "    video_files = sorted([f for f in os.listdir(video_dir) if f.endswith(\".mp4\")])\n",
    "\n",
    "    for video_name in tqdm(video_files, desc=f\"DFD {label}\"):\n",
    "        path = os.path.join(video_dir, video_name)\n",
    "        cap = cv2.VideoCapture(path)\n",
    "        if not cap.isOpened():\n",
    "            print(f\"❌ Failed to open {video_name}\")\n",
    "            continue\n",
    "\n",
    "        total_frames = int(cap.get(cv2.CAP_PROP_FRAME_COUNT))\n",
    "        sample_every = max(every_n_frames, total_frames // max_per_video)\n",
    "        frame_idx = 0\n",
    "        saved = 0\n",
    "\n",
    "        while cap.isOpened():\n",
    "            ret, frame = cap.read()\n",
    "            if not ret:\n",
    "                break\n",
    "\n",
    "            if frame_idx % sample_every != 0:\n",
    "                frame_idx += 1\n",
    "                continue\n",
    "\n",
    "            img_rgb = cv2.cvtColor(frame, cv2.COLOR_BGR2RGB)\n",
    "            result = mp_face.process(img_rgb)\n",
    "\n",
    "            if result.detections:\n",
    "                face = result.detections[0]\n",
    "                bbox = face.location_data.relative_bounding_box\n",
    "                h, w, _ = frame.shape\n",
    "                x1 = int(max((bbox.xmin - margin * bbox.width) * w, 0))\n",
    "                y1 = int(max((bbox.ymin - margin * bbox.height) * h, 0))\n",
    "                x2 = int(min((bbox.xmin + bbox.width * (1 + margin)) * w, w))\n",
    "                y2 = int(min((bbox.ymin + bbox.height * (1 + margin)) * h, h))\n",
    "\n",
    "                face_crop = frame[y1:y2, x1:x2]\n",
    "                if face_crop.size == 0:\n",
    "                    continue\n",
    "\n",
    "                base = os.path.splitext(video_name)[0]\n",
    "                out_path = os.path.join(out_dir, f\"{base}_frame{frame_idx}.jpg\")\n",
    "                cv2.imwrite(out_path, face_crop)\n",
    "                saved += 1\n",
    "\n",
    "            frame_idx += 1\n",
    "            if saved >= max_per_video:\n",
    "                break\n",
    "\n",
    "        cap.release()\n"
   ],
   "outputs": [],
   "execution_count": 11
  },
  {
   "metadata": {
    "ExecuteTime": {
     "end_time": "2025-06-09T14:15:55.033093Z",
     "start_time": "2025-06-09T12:14:40.183645Z"
    }
   },
   "cell_type": "code",
   "source": [
    "import os\n",
    "os.chdir(\"C:/Users/swift/Downloads/archive (3)\")\n",
    "\n",
    "\n",
    "# extract_faces_from_dfd(\n",
    "#     video_dir=\"DFD_original\",\n",
    "#     out_dir=\"dataset/dfd_real\",\n",
    "#     label=\"real\"\n",
    "# )\n",
    "\n",
    "extract_faces_from_dfd(\n",
    "    video_dir=\"DFD_manipulated/DFD_manipulated_sequences\",\n",
    "    out_dir=\"dataset/dfd_fake\",\n",
    "    label=\"fake\"\n",
    ")\n"
   ],
   "id": "22251b03c942fa5d",
   "outputs": [
    {
     "name": "stderr",
     "output_type": "stream",
     "text": [
      "DFD fake: 100%|██████████| 3068/3068 [2:01:14<00:00,  2.37s/it]  \n"
     ]
    }
   ],
   "execution_count": 12
  }
 ],
 "metadata": {
  "kernelspec": {
   "display_name": "Python 3",
   "language": "python",
   "name": "python3"
  },
  "language_info": {
   "codemirror_mode": {
    "name": "ipython",
    "version": 2
   },
   "file_extension": ".py",
   "mimetype": "text/x-python",
   "name": "python",
   "nbconvert_exporter": "python",
   "pygments_lexer": "ipython2",
   "version": "2.7.6"
  }
 },
 "nbformat": 4,
 "nbformat_minor": 5
}
